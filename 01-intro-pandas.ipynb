{
 "cells": [
  {
   "cell_type": "markdown",
   "metadata": {},
   "source": [
    "# Pandas"
   ]
  },
  {
   "cell_type": "markdown",
   "metadata": {},
   "source": [
    "Es una librería de Python para el manejo de datos tabulares (cuadros, hojas de cálculo), permite trabajar con archivos de tipo .csv, excel entre otros"
   ]
  },
  {
   "cell_type": "markdown",
   "metadata": {},
   "source": [
    "## Entorno de trabajo\n",
    "Para trabajar necesitamos crear un entorno virtual de Python, así que debe crearlo, activarlo y a continuación instalar todas las librerias necesarias\n",
    "\n",
    "Otra opción es usar herramientas como Jupyter notebook o Google Colaboratory, en ellos podemos crear nuestros notebooks online, estos son que son archivos donde podemos mezclar texto (markdown) y ejecutar código (python)\n",
    "\n",
    "En resumen se puede trabajar sobre un archivo plano python o sobre un notebook (la extension de un notebook es .ipynb   (i + python + notebook))"
   ]
  },
  {
   "cell_type": "markdown",
   "metadata": {},
   "source": [
    "### Instalar e importar pandas"
   ]
  },
  {
   "cell_type": "code",
   "execution_count": 18,
   "metadata": {},
   "outputs": [],
   "source": [
    "# En una terminal y con el entorno virtual (activate), ejecutar:\n",
    "# pip install pandas"
   ]
  },
  {
   "cell_type": "code",
   "execution_count": 19,
   "metadata": {},
   "outputs": [],
   "source": [
    "# Es necesario importar Pandas para trabajar con ella (igual que con otras librerias)\n",
    "import pandas as pd"
   ]
  }
 ],
 "metadata": {
  "kernelspec": {
   "display_name": "venv",
   "language": "python",
   "name": "python3"
  },
  "language_info": {
   "codemirror_mode": {
    "name": "ipython",
    "version": 3
   },
   "file_extension": ".py",
   "mimetype": "text/x-python",
   "name": "python",
   "nbconvert_exporter": "python",
   "pygments_lexer": "ipython3",
   "version": "3.12.2"
  }
 },
 "nbformat": 4,
 "nbformat_minor": 2
}

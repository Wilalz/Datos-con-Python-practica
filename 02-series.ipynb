{
 "cells": [
  {
   "cell_type": "code",
   "execution_count": 2,
   "metadata": {},
   "outputs": [],
   "source": [
    "import pandas as pd\n"
   ]
  },
  {
   "cell_type": "markdown",
   "metadata": {},
   "source": [
    "## Series\n",
    "- Es una estructura (objeto) con 2 series: un indice y los datos"
   ]
  },
  {
   "cell_type": "code",
   "execution_count": 11,
   "metadata": {},
   "outputs": [],
   "source": [
    "# Crear una serie\n",
    "my_serie =  pd.Series(['Enero', 'Febrero', 'Marzo'])\n",
    "my_num_serie = pd.Series([1, 1, 2, 3, 5, 8, 13, 21])\n"
   ]
  },
  {
   "cell_type": "code",
   "execution_count": 4,
   "metadata": {},
   "outputs": [
    {
     "name": "stdout",
     "output_type": "stream",
     "text": [
      "Febrero\n",
      "Marzo\n",
      "2    Marzo\n",
      "dtype: object\n"
     ]
    }
   ],
   "source": [
    "# Acceder a un elemento de la serie\n",
    "print(my_serie[1])\n",
    "\n",
    "# las Series no admiten índices negativos, por lo tanto esto funciona \"my_serie[1]\" pero esto no \"my_serie[-1]\"\n",
    "# my_serie[-1]  # genera error\n",
    "# para acceder a indices negativos usar .iloc\n",
    "print(my_serie.iloc[-1])    # mostrará el ultimo elemento de la serie\n",
    "print(my_serie.tail(1))     # mostrará el ultimo elemento de la serie incluyendo su indice\n"
   ]
  },
  {
   "cell_type": "markdown",
   "metadata": {},
   "source": [
    "## Métodos de una Serie"
   ]
  },
  {
   "cell_type": "code",
   "execution_count": 12,
   "metadata": {},
   "outputs": [
    {
     "name": "stdout",
     "output_type": "stream",
     "text": [
      "La suma es: 54\n",
      "El mínimo es: 1\n",
      "El máximo es: 21\n",
      "La promedio es: 6.75\n",
      "La cuenta es: 8\n",
      "\n",
      "La frecuencia de cada valor es: \n",
      "1     2\n",
      "2     1\n",
      "3     1\n",
      "5     1\n",
      "8     1\n",
      "13    1\n",
      "21    1\n",
      "Name: count, dtype: int64\n"
     ]
    }
   ],
   "source": [
    "# Usar metodos en series\n",
    "print(f'La suma es: {my_num_serie.sum()}')\n",
    "print(f'El mínimo es: {my_num_serie.min()}')\n",
    "print(f'El máximo es: {my_num_serie.max()}')\n",
    "print(f'La promedio es: {my_num_serie.mean()}')\n",
    "print(f'La cuenta es: {my_num_serie.count()}')\n",
    "print(f'\\nLa frecuencia de cada valor es: \\n{my_num_serie.value_counts()}')"
   ]
  },
  {
   "cell_type": "code",
   "execution_count": 6,
   "metadata": {},
   "outputs": [
    {
     "data": {
      "text/plain": [
       "<Axes: >"
      ]
     },
     "execution_count": 6,
     "metadata": {},
     "output_type": "execute_result"
    },
    {
     "data": {
      "image/png": "[encoded data removed]",
      "text/plain": [
       "<Figure size 640x480 with 1 Axes>"
      ]
     },
     "metadata": {},
     "output_type": "display_data"
    }
   ],
   "source": [
    "# Hacer gráficos a partir de series\n",
    "my_num_serie.plot(kind='bar')"
   ]
  }
 ],
 "metadata": {
  "kernelspec": {
   "display_name": "venv",
   "language": "python",
   "name": "python3"
  },
  "language_info": {
   "codemirror_mode": {
    "name": "ipython",
    "version": 3
   },
   "file_extension": ".py",
   "mimetype": "text/x-python",
   "name": "python",
   "nbconvert_exporter": "python",
   "pygments_lexer": "ipython3",
   "version": "3.12.2"
  }
 },
 "nbformat": 4,
 "nbformat_minor": 2
}

{
 "cells": [
  {
   "cell_type": "code",
   "execution_count": 1,
   "metadata": {},
   "outputs": [],
   "source": [
    "import pandas as pd"
   ]
  },
  {
   "cell_type": "code",
   "execution_count": 3,
   "metadata": {},
   "outputs": [],
   "source": [
    "# TODO acá voy - Operaciones DataFrame clase 5"
   ]
  },
  {
   "cell_type": "code",
   "execution_count": null,
   "metadata": {},
   "outputs": [],
   "source": []
  },
  {
   "cell_type": "code",
   "execution_count": null,
   "metadata": {},
   "outputs": [],
   "source": []
  },
  {
   "cell_type": "code",
   "execution_count": null,
   "metadata": {},
   "outputs": [],
   "source": []
  },
  {
   "cell_type": "markdown",
   "metadata": {},
   "source": [
    "# Pendiente por revisar"
   ]
  },
  {
   "cell_type": "code",
   "execution_count": null,
   "metadata": {},
   "outputs": [
    {
     "name": "stdout",
     "output_type": "stream",
     "text": [
      "       Mes    Tipo  Cantidad Producto  Altura  Longitud  Peso\n",
      "0    Enero  Blanco         2     Maq2     448        75   172\n",
      "1    Enero   Negro         5     Maq2     177       124   996\n",
      "2    Enero   Negro         5     Maq1     337       333   136\n",
      "3  Febrero  Blanco         6     Maq2     448        75   172\n",
      "4    Marzo   Negro         2     Maq2     177       124   996\n",
      "5    Marzo   Negro         2     Maq1     337       333   136\n",
      "6    Marzo  Blanco         1     Maq2     448        75   172\n"
     ]
    }
   ],
   "source": [
    "df_productos['Tipo'] = df_productos['Tipo'].str.capitalize()\n",
    "df_ventas['Tipo'] = df_ventas['Tipo'].str.capitalize()\n",
    "\n",
    "resultado = pd.merge(df_ventas, df_productos, on='Tipo')\n",
    "\n",
    "print(resultado)\n"
   ]
  }
 ],
 "metadata": {
  "kernelspec": {
   "display_name": "venv",
   "language": "python",
   "name": "python3"
  },
  "language_info": {
   "codemirror_mode": {
    "name": "ipython",
    "version": 3
   },
   "file_extension": ".py",
   "mimetype": "text/x-python",
   "name": "python",
   "nbconvert_exporter": "python",
   "pygments_lexer": "ipython3",
   "version": "3.12.2"
  }
 },
 "nbformat": 4,
 "nbformat_minor": 2
}

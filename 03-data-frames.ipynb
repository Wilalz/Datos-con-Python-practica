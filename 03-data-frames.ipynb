{
 "cells": [
  {
   "cell_type": "code",
   "execution_count": 3,
   "metadata": {},
   "outputs": [],
   "source": [
    "import pandas as pd"
   ]
  },
  {
   "cell_type": "markdown",
   "metadata": {},
   "source": [
    "# Data frame"
   ]
  },
  {
   "cell_type": "markdown",
   "metadata": {},
   "source": [
    "- Es un conjunto de series, que forman filas y columnas (forma matricial o matrices). Similar a hojas de calculo"
   ]
  },
  {
   "cell_type": "code",
   "execution_count": 4,
   "metadata": {},
   "outputs": [],
   "source": [
    "# Crear un DataFrame\n",
    "# por convención, un dataframe tiene el alias de \"df\"\n",
    "# Normalemente los dataFrames se crearan a partir de hojas de calculo: csv, xls, xlsx\n",
    "\n",
    "## Forma 1 - Por un lado los datos y por otro las columnas\n",
    "# pd.DataFrame(data=['(lista de tuplas), (tupla1), (tupla2)'], columns=¨['lista'])\n",
    "df_productos = pd.DataFrame(  data =  [('Maq2', 'negro', 177, 124, 996),\n",
    "                            ('Maq1', 'negro', 337, 333, 136),\n",
    "                            ('Maq2', 'blanco', 448, 75, 172)],\n",
    "                    columns=['Producto', 'Tipo', 'Altura', 'Longitud', 'Peso']\n",
    "                )\n",
    "\n",
    "\n",
    "## Forma 2 - Utilizar un diccionario\n",
    "df_ventas = pd.DataFrame({  'Mes': ['Enero', 'Enero', 'Febrero', 'Marzo', 'Marzo'],\n",
    "                'Tipo': ['Blanco', 'Negro', 'Blanco', 'Negro', 'Blanco'],\n",
    "                'Cantidad': [2, 5, 6, 2, 1]\n",
    "                })"
   ]
  },
  {
   "cell_type": "code",
   "execution_count": 5,
   "metadata": {},
   "outputs": [
    {
     "data": {
      "text/html": [
       "<div>\n",
       "<style scoped>\n",
       "    .dataframe tbody tr th:only-of-type {\n",
       "        vertical-align: middle;\n",
       "    }\n",
       "\n",
       "    .dataframe tbody tr th {\n",
       "        vertical-align: top;\n",
       "    }\n",
       "\n",
       "    .dataframe thead th {\n",
       "        text-align: right;\n",
       "    }\n",
       "</style>\n",
       "<table border=\"1\" class=\"dataframe\">\n",
       "  <thead>\n",
       "    <tr style=\"text-align: right;\">\n",
       "      <th></th>\n",
       "      <th>Producto</th>\n",
       "      <th>Tipo</th>\n",
       "      <th>Altura</th>\n",
       "      <th>Longitud</th>\n",
       "      <th>Peso</th>\n",
       "    </tr>\n",
       "  </thead>\n",
       "  <tbody>\n",
       "    <tr>\n",
       "      <th>0</th>\n",
       "      <td>Maq2</td>\n",
       "      <td>negro</td>\n",
       "      <td>177</td>\n",
       "      <td>124</td>\n",
       "      <td>996</td>\n",
       "    </tr>\n",
       "    <tr>\n",
       "      <th>1</th>\n",
       "      <td>Maq1</td>\n",
       "      <td>negro</td>\n",
       "      <td>337</td>\n",
       "      <td>333</td>\n",
       "      <td>136</td>\n",
       "    </tr>\n",
       "    <tr>\n",
       "      <th>2</th>\n",
       "      <td>Maq2</td>\n",
       "      <td>blanco</td>\n",
       "      <td>448</td>\n",
       "      <td>75</td>\n",
       "      <td>172</td>\n",
       "    </tr>\n",
       "  </tbody>\n",
       "</table>\n",
       "</div>"
      ],
      "text/plain": [
       "  Producto    Tipo  Altura  Longitud  Peso\n",
       "0     Maq2   negro     177       124   996\n",
       "1     Maq1   negro     337       333   136\n",
       "2     Maq2  blanco     448        75   172"
      ]
     },
     "execution_count": 5,
     "metadata": {},
     "output_type": "execute_result"
    }
   ],
   "source": [
    "# Ver el data frame creado\n",
    "df_productos"
   ]
  },
  {
   "cell_type": "code",
   "execution_count": 6,
   "metadata": {},
   "outputs": [
    {
     "data": {
      "text/html": [
       "<div>\n",
       "<style scoped>\n",
       "    .dataframe tbody tr th:only-of-type {\n",
       "        vertical-align: middle;\n",
       "    }\n",
       "\n",
       "    .dataframe tbody tr th {\n",
       "        vertical-align: top;\n",
       "    }\n",
       "\n",
       "    .dataframe thead th {\n",
       "        text-align: right;\n",
       "    }\n",
       "</style>\n",
       "<table border=\"1\" class=\"dataframe\">\n",
       "  <thead>\n",
       "    <tr style=\"text-align: right;\">\n",
       "      <th></th>\n",
       "      <th>Mes</th>\n",
       "      <th>Tipo</th>\n",
       "      <th>Cantidad</th>\n",
       "    </tr>\n",
       "  </thead>\n",
       "  <tbody>\n",
       "    <tr>\n",
       "      <th>0</th>\n",
       "      <td>Enero</td>\n",
       "      <td>Blanco</td>\n",
       "      <td>2</td>\n",
       "    </tr>\n",
       "    <tr>\n",
       "      <th>1</th>\n",
       "      <td>Enero</td>\n",
       "      <td>Negro</td>\n",
       "      <td>5</td>\n",
       "    </tr>\n",
       "    <tr>\n",
       "      <th>2</th>\n",
       "      <td>Febrero</td>\n",
       "      <td>Blanco</td>\n",
       "      <td>6</td>\n",
       "    </tr>\n",
       "    <tr>\n",
       "      <th>3</th>\n",
       "      <td>Marzo</td>\n",
       "      <td>Negro</td>\n",
       "      <td>2</td>\n",
       "    </tr>\n",
       "    <tr>\n",
       "      <th>4</th>\n",
       "      <td>Marzo</td>\n",
       "      <td>Blanco</td>\n",
       "      <td>1</td>\n",
       "    </tr>\n",
       "  </tbody>\n",
       "</table>\n",
       "</div>"
      ],
      "text/plain": [
       "       Mes    Tipo  Cantidad\n",
       "0    Enero  Blanco         2\n",
       "1    Enero   Negro         5\n",
       "2  Febrero  Blanco         6\n",
       "3    Marzo   Negro         2\n",
       "4    Marzo  Blanco         1"
      ]
     },
     "execution_count": 6,
     "metadata": {},
     "output_type": "execute_result"
    }
   ],
   "source": [
    "# Ver el data frame creado\n",
    "df_ventas"
   ]
  },
  {
   "cell_type": "markdown",
   "metadata": {},
   "source": [
    "## Información sobre el DataFrame"
   ]
  },
  {
   "cell_type": "code",
   "execution_count": 7,
   "metadata": {},
   "outputs": [
    {
     "data": {
      "text/plain": [
       "3"
      ]
     },
     "execution_count": 7,
     "metadata": {},
     "output_type": "execute_result"
    }
   ],
   "source": [
    "# Longitud del DataFrame (cantidad de filas)  # usar len(df)\n",
    "len(df_productos)"
   ]
  },
  {
   "cell_type": "code",
   "execution_count": 16,
   "metadata": {},
   "outputs": [
    {
     "data": {
      "text/plain": [
       "(3, 5)"
      ]
     },
     "execution_count": 16,
     "metadata": {},
     "output_type": "execute_result"
    }
   ],
   "source": [
    "# Dimensión de la tabla (cantidad de columnas, cantidad de filas)\n",
    "df_productos.shape"
   ]
  },
  {
   "cell_type": "code",
   "execution_count": 18,
   "metadata": {},
   "outputs": [
    {
     "data": {
      "text/plain": [
       "15"
      ]
     },
     "execution_count": 18,
     "metadata": {},
     "output_type": "execute_result"
    }
   ],
   "source": [
    "# Cantidad de datos que contiene la tabla, cuenta de todos los datos\n",
    "df_productos.size"
   ]
  },
  {
   "cell_type": "code",
   "execution_count": 9,
   "metadata": {},
   "outputs": [
    {
     "data": {
      "text/html": [
       "<div>\n",
       "<style scoped>\n",
       "    .dataframe tbody tr th:only-of-type {\n",
       "        vertical-align: middle;\n",
       "    }\n",
       "\n",
       "    .dataframe tbody tr th {\n",
       "        vertical-align: top;\n",
       "    }\n",
       "\n",
       "    .dataframe thead th {\n",
       "        text-align: right;\n",
       "    }\n",
       "</style>\n",
       "<table border=\"1\" class=\"dataframe\">\n",
       "  <thead>\n",
       "    <tr style=\"text-align: right;\">\n",
       "      <th></th>\n",
       "      <th>Altura</th>\n",
       "      <th>Longitud</th>\n",
       "      <th>Peso</th>\n",
       "    </tr>\n",
       "  </thead>\n",
       "  <tbody>\n",
       "    <tr>\n",
       "      <th>count</th>\n",
       "      <td>3.000000</td>\n",
       "      <td>3.000000</td>\n",
       "      <td>3.000000</td>\n",
       "    </tr>\n",
       "    <tr>\n",
       "      <th>mean</th>\n",
       "      <td>320.666667</td>\n",
       "      <td>177.333333</td>\n",
       "      <td>434.666667</td>\n",
       "    </tr>\n",
       "    <tr>\n",
       "      <th>std</th>\n",
       "      <td>136.236314</td>\n",
       "      <td>137.019463</td>\n",
       "      <td>486.462057</td>\n",
       "    </tr>\n",
       "    <tr>\n",
       "      <th>min</th>\n",
       "      <td>177.000000</td>\n",
       "      <td>75.000000</td>\n",
       "      <td>136.000000</td>\n",
       "    </tr>\n",
       "    <tr>\n",
       "      <th>25%</th>\n",
       "      <td>257.000000</td>\n",
       "      <td>99.500000</td>\n",
       "      <td>154.000000</td>\n",
       "    </tr>\n",
       "    <tr>\n",
       "      <th>50%</th>\n",
       "      <td>337.000000</td>\n",
       "      <td>124.000000</td>\n",
       "      <td>172.000000</td>\n",
       "    </tr>\n",
       "    <tr>\n",
       "      <th>75%</th>\n",
       "      <td>392.500000</td>\n",
       "      <td>228.500000</td>\n",
       "      <td>584.000000</td>\n",
       "    </tr>\n",
       "    <tr>\n",
       "      <th>max</th>\n",
       "      <td>448.000000</td>\n",
       "      <td>333.000000</td>\n",
       "      <td>996.000000</td>\n",
       "    </tr>\n",
       "  </tbody>\n",
       "</table>\n",
       "</div>"
      ],
      "text/plain": [
       "           Altura    Longitud        Peso\n",
       "count    3.000000    3.000000    3.000000\n",
       "mean   320.666667  177.333333  434.666667\n",
       "std    136.236314  137.019463  486.462057\n",
       "min    177.000000   75.000000  136.000000\n",
       "25%    257.000000   99.500000  154.000000\n",
       "50%    337.000000  124.000000  172.000000\n",
       "75%    392.500000  228.500000  584.000000\n",
       "max    448.000000  333.000000  996.000000"
      ]
     },
     "execution_count": 9,
     "metadata": {},
     "output_type": "execute_result"
    }
   ],
   "source": [
    "# Descripción del DataFrame  # usar df.describe())\n",
    "# Muestra estadísticos básicos de las columnas numéricas\n",
    "df_productos.describe()"
   ]
  },
  {
   "cell_type": "code",
   "execution_count": 21,
   "metadata": {},
   "outputs": [
    {
     "data": {
      "text/plain": [
       "Producto    object\n",
       "Tipo        object\n",
       "Altura       int64\n",
       "Longitud     int64\n",
       "Peso         int64\n",
       "dtype: object"
      ]
     },
     "execution_count": 21,
     "metadata": {},
     "output_type": "execute_result"
    }
   ],
   "source": [
    "# Muestra los tipos de datos de las columnas, devuelve una serie\n",
    "df_productos.dtypes "
   ]
  },
  {
   "cell_type": "code",
   "execution_count": 23,
   "metadata": {},
   "outputs": [
    {
     "name": "stdout",
     "output_type": "stream",
     "text": [
      "<class 'pandas.core.frame.DataFrame'>\n",
      "RangeIndex: 3 entries, 0 to 2\n",
      "Data columns (total 5 columns):\n",
      " #   Column    Non-Null Count  Dtype \n",
      "---  ------    --------------  ----- \n",
      " 0   Producto  3 non-null      object\n",
      " 1   Tipo      3 non-null      object\n",
      " 2   Altura    3 non-null      int64 \n",
      " 3   Longitud  3 non-null      int64 \n",
      " 4   Peso      3 non-null      int64 \n",
      "dtypes: int64(3), object(2)\n",
      "memory usage: 252.0+ bytes\n"
     ]
    }
   ],
   "source": [
    "# Información del DataFrame  # usar df.info())\n",
    "# Muestra Columnas, si tiene datos nulos y el tipo de dato que contiene cada columna\n",
    "df_productos.info()\n"
   ]
  },
  {
   "cell_type": "markdown",
   "metadata": {},
   "source": [
    "## Ver los datos del DataFrame"
   ]
  },
  {
   "cell_type": "code",
   "execution_count": 19,
   "metadata": {},
   "outputs": [
    {
     "name": "stdout",
     "output_type": "stream",
     "text": [
      "\n",
      "Indices del DataFrame: \n",
      "RangeIndex(start=0, stop=3, step=1)\n",
      "\n",
      "Columnas del DataFrame: \n",
      "Index(['Producto', 'Tipo', 'Altura', 'Longitud', 'Peso'], dtype='object')\n",
      "\n",
      "Valores del DataFrame: \n",
      "[['Maq2' 'negro' 177 124 996]\n",
      " ['Maq1' 'negro' 337 333 136]\n",
      " ['Maq2' 'blanco' 448 75 172]]\n"
     ]
    }
   ],
   "source": [
    "# Acceder a un elemento de la DataFrame\n",
    "\n",
    "# Conocer los indices, deevuelve una lista     # usar df.index\n",
    "print(f'\\nIndices del DataFrame: \\n{df_productos.index}')\n",
    "\n",
    "# Conocer los Columnas, devuelve una lista     # usar df.columns\n",
    "print(f'\\nColumnas del DataFrame: \\n{df_productos.columns}')\n",
    "\n",
    "# Conocer los valores     # usar df.values\n",
    "print(f'\\nValores del DataFrame: \\n{df_productos.values}')\n"
   ]
  },
  {
   "cell_type": "code",
   "execution_count": 12,
   "metadata": {},
   "outputs": [
    {
     "data": {
      "text/html": [
       "<div>\n",
       "<style scoped>\n",
       "    .dataframe tbody tr th:only-of-type {\n",
       "        vertical-align: middle;\n",
       "    }\n",
       "\n",
       "    .dataframe tbody tr th {\n",
       "        vertical-align: top;\n",
       "    }\n",
       "\n",
       "    .dataframe thead th {\n",
       "        text-align: right;\n",
       "    }\n",
       "</style>\n",
       "<table border=\"1\" class=\"dataframe\">\n",
       "  <thead>\n",
       "    <tr style=\"text-align: right;\">\n",
       "      <th></th>\n",
       "      <th>Mes</th>\n",
       "      <th>Tipo</th>\n",
       "      <th>Cantidad</th>\n",
       "    </tr>\n",
       "  </thead>\n",
       "  <tbody>\n",
       "    <tr>\n",
       "      <th>0</th>\n",
       "      <td>Enero</td>\n",
       "      <td>Blanco</td>\n",
       "      <td>2</td>\n",
       "    </tr>\n",
       "    <tr>\n",
       "      <th>1</th>\n",
       "      <td>Enero</td>\n",
       "      <td>Negro</td>\n",
       "      <td>5</td>\n",
       "    </tr>\n",
       "  </tbody>\n",
       "</table>\n",
       "</div>"
      ],
      "text/plain": [
       "     Mes    Tipo  Cantidad\n",
       "0  Enero  Blanco         2\n",
       "1  Enero   Negro         5"
      ]
     },
     "execution_count": 12,
     "metadata": {},
     "output_type": "execute_result"
    }
   ],
   "source": [
    "## Ver los primeras filas\n",
    "df_ventas.head(2)"
   ]
  },
  {
   "cell_type": "code",
   "execution_count": 13,
   "metadata": {},
   "outputs": [
    {
     "data": {
      "text/html": [
       "<div>\n",
       "<style scoped>\n",
       "    .dataframe tbody tr th:only-of-type {\n",
       "        vertical-align: middle;\n",
       "    }\n",
       "\n",
       "    .dataframe tbody tr th {\n",
       "        vertical-align: top;\n",
       "    }\n",
       "\n",
       "    .dataframe thead th {\n",
       "        text-align: right;\n",
       "    }\n",
       "</style>\n",
       "<table border=\"1\" class=\"dataframe\">\n",
       "  <thead>\n",
       "    <tr style=\"text-align: right;\">\n",
       "      <th></th>\n",
       "      <th>Mes</th>\n",
       "      <th>Tipo</th>\n",
       "      <th>Cantidad</th>\n",
       "    </tr>\n",
       "  </thead>\n",
       "  <tbody>\n",
       "    <tr>\n",
       "      <th>0</th>\n",
       "      <td>Enero</td>\n",
       "      <td>Blanco</td>\n",
       "      <td>2</td>\n",
       "    </tr>\n",
       "    <tr>\n",
       "      <th>1</th>\n",
       "      <td>Enero</td>\n",
       "      <td>Negro</td>\n",
       "      <td>5</td>\n",
       "    </tr>\n",
       "    <tr>\n",
       "      <th>2</th>\n",
       "      <td>Febrero</td>\n",
       "      <td>Blanco</td>\n",
       "      <td>6</td>\n",
       "    </tr>\n",
       "    <tr>\n",
       "      <th>3</th>\n",
       "      <td>Marzo</td>\n",
       "      <td>Negro</td>\n",
       "      <td>2</td>\n",
       "    </tr>\n",
       "    <tr>\n",
       "      <th>4</th>\n",
       "      <td>Marzo</td>\n",
       "      <td>Blanco</td>\n",
       "      <td>1</td>\n",
       "    </tr>\n",
       "  </tbody>\n",
       "</table>\n",
       "</div>"
      ],
      "text/plain": [
       "       Mes    Tipo  Cantidad\n",
       "0    Enero  Blanco         2\n",
       "1    Enero   Negro         5\n",
       "2  Febrero  Blanco         6\n",
       "3    Marzo   Negro         2\n",
       "4    Marzo  Blanco         1"
      ]
     },
     "execution_count": 13,
     "metadata": {},
     "output_type": "execute_result"
    }
   ],
   "source": [
    "## Ver las ultimas filas\n",
    "df_ventas.tail()"
   ]
  },
  {
   "cell_type": "markdown",
   "metadata": {},
   "source": [
    "## Operaciones con los DataFrames\n",
    "- Agrupar por valores de columnas\n",
    "- Aplicar propiedades de los conjuntos: union, intersección...\n",
    "- Calcular sumas, promedios, maximos, minimos, valores agrupación\n",
    "- Selecionar filas o columnas con ciertos valores\n",
    "- Concatenar, mezclar, combinar varios DataFrame\n",
    "- Eliminar datos"
   ]
  },
  {
   "cell_type": "code",
   "execution_count": 14,
   "metadata": {},
   "outputs": [
    {
     "name": "stdout",
     "output_type": "stream",
     "text": [
      "Altura minima: 177\n",
      "Altura maxima: 448\n",
      "Altura media: 320.6666666666667\n",
      "Altura cuenta: 3\n"
     ]
    }
   ],
   "source": [
    "# Valores de agrupación\n",
    "print(f'Altura minima: {df_productos.Altura.min()}')\n",
    "print(f'Altura maxima: {df_productos.Altura.max()}')\n",
    "print(f'Altura media: {df_productos.Altura.mean()}')\n",
    "print(f'Altura cuenta: {df_productos.Altura.count()}')   # no cuenta los nulos ni NaN"
   ]
  },
  {
   "cell_type": "markdown",
   "metadata": {},
   "source": [
    "### Crear mas DataFrame para las pruebas siguientes"
   ]
  },
  {
   "cell_type": "code",
   "execution_count": 15,
   "metadata": {},
   "outputs": [
    {
     "data": {
      "text/html": [
       "<div>\n",
       "<style scoped>\n",
       "    .dataframe tbody tr th:only-of-type {\n",
       "        vertical-align: middle;\n",
       "    }\n",
       "\n",
       "    .dataframe tbody tr th {\n",
       "        vertical-align: top;\n",
       "    }\n",
       "\n",
       "    .dataframe thead th {\n",
       "        text-align: right;\n",
       "    }\n",
       "</style>\n",
       "<table border=\"1\" class=\"dataframe\">\n",
       "  <thead>\n",
       "    <tr style=\"text-align: right;\">\n",
       "      <th></th>\n",
       "      <th>Mes</th>\n",
       "      <th>Tipo</th>\n",
       "      <th>Cantidad</th>\n",
       "    </tr>\n",
       "  </thead>\n",
       "  <tbody>\n",
       "    <tr>\n",
       "      <th>0</th>\n",
       "      <td>Enero</td>\n",
       "      <td>Blanco</td>\n",
       "      <td>2</td>\n",
       "    </tr>\n",
       "    <tr>\n",
       "      <th>1</th>\n",
       "      <td>Enero</td>\n",
       "      <td>Negro</td>\n",
       "      <td>5</td>\n",
       "    </tr>\n",
       "    <tr>\n",
       "      <th>2</th>\n",
       "      <td>Febrero</td>\n",
       "      <td>Blanco</td>\n",
       "      <td>6</td>\n",
       "    </tr>\n",
       "    <tr>\n",
       "      <th>3</th>\n",
       "      <td>Marzo</td>\n",
       "      <td>Negro</td>\n",
       "      <td>2</td>\n",
       "    </tr>\n",
       "    <tr>\n",
       "      <th>4</th>\n",
       "      <td>Marzo</td>\n",
       "      <td>Blanco</td>\n",
       "      <td>1</td>\n",
       "    </tr>\n",
       "  </tbody>\n",
       "</table>\n",
       "</div>"
      ],
      "text/plain": [
       "       Mes    Tipo  Cantidad\n",
       "0    Enero  Blanco         2\n",
       "1    Enero   Negro         5\n",
       "2  Febrero  Blanco         6\n",
       "3    Marzo   Negro         2\n",
       "4    Marzo  Blanco         1"
      ]
     },
     "execution_count": 15,
     "metadata": {},
     "output_type": "execute_result"
    }
   ],
   "source": [
    "\n",
    "\n",
    "df_ventas_2 = pd.DataFrame({  'Mes': ['Marzo', 'Abril', 'Mayo', 'Junio', 'Julio'],\n",
    "                'Tipo': ['Negro', 'Blanco', 'Negro', 'Blanco', 'Blanco'],\n",
    "                'Cantidad': [2, 5, 6, 2, 1]\n",
    "                })\n",
    "\n",
    "df_ventas"
   ]
  }
 ],
 "metadata": {
  "kernelspec": {
   "display_name": "venv",
   "language": "python",
   "name": "python3"
  },
  "language_info": {
   "codemirror_mode": {
    "name": "ipython",
    "version": 3
   },
   "file_extension": ".py",
   "mimetype": "text/x-python",
   "name": "python",
   "nbconvert_exporter": "python",
   "pygments_lexer": "ipython3",
   "version": "3.12.2"
  }
 },
 "nbformat": 4,
 "nbformat_minor": 2
}
